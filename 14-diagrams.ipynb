{
 "cells": [
  {
   "cell_type": "markdown",
   "metadata": {},
   "source": [
    "# Diagrams used for the report"
   ]
  },
  {
   "cell_type": "code",
   "execution_count": 4,
   "metadata": {},
   "outputs": [
    {
     "name": "stdout",
     "output_type": "stream",
     "text": [
      "The autoreload extension is already loaded. To reload it, use:\n",
      "  %reload_ext autoreload\n"
     ]
    }
   ],
   "source": [
    "%matplotlib inline\n",
    "%load_ext autoreload\n",
    "%autoreload 2\n",
    "import matplotlib.pyplot as plt\n",
    "import IPython.display\n",
    "import numpy as np\n",
    "from cued_sf2_lab.familiarisation import load_mat_img\n"
   ]
  },
  {
   "cell_type": "code",
   "execution_count": 5,
   "metadata": {},
   "outputs": [],
   "source": [
    "lighthouse, _ = load_mat_img(img='lighthouse.mat', img_info='X')\n",
    "lighthouse = lighthouse - 128.0"
   ]
  },
  {
   "cell_type": "markdown",
   "metadata": {},
   "source": [
    "## Quantisation grid images"
   ]
  },
  {
   "cell_type": "markdown",
   "metadata": {},
   "source": [
    "## LBT Quantisation Schemes"
   ]
  },
  {
   "cell_type": "code",
   "execution_count": 60,
   "metadata": {},
   "outputs": [],
   "source": [
    "N = 16\n",
    "\n",
    "r = 1.039\n",
    "steps = np.zeros((N, N))\n",
    "x = np.arange(N)\n",
    "steps_lbt_grad = (r ** np.add.outer(x, x))\n"
   ]
  },
  {
   "cell_type": "code",
   "execution_count": 61,
   "metadata": {},
   "outputs": [],
   "source": [
    "from compression import LBTCompression\n",
    "\n",
    "scheme = LBTCompression(s=1.3, N=N)\n",
    "image = lighthouse\n",
    "Y = scheme.compress(image)\n",
    "\n",
    "energies = np.zeros((N, N))\n",
    "for i in range(N):\n",
    "    for j in range(N):\n",
    "        energies[i, j] = (Y[i::N, j::N] ** 2).sum()\n",
    "\n",
    "steps_lbt_energies = 1 / np.sqrt(energies)\n",
    "steps_lbt_energies /= steps_lbt_energies[0, 1]"
   ]
  },
  {
   "cell_type": "code",
   "execution_count": 62,
   "metadata": {},
   "outputs": [
    {
     "data": {
      "image/png": "[encoded data removed]",
      "text/plain": [
       "<Figure size 792x360 with 3 Axes>"
      ]
     },
     "metadata": {
      "needs_background": "light"
     },
     "output_type": "display_data"
    }
   ],
   "source": [
    "fig, ax = plt.subplots(nrows=1, ncols=3, figsize=(11, 5))\n",
    "\n",
    "ax[0].imshow(np.add.outer(x, x))\n",
    "ax[0].set_title(\"Arithmetic Manhattan distance\")\n",
    "ax[1].imshow(steps_lbt_grad)\n",
    "ax[1].set_title(\"Geometric Manhattan distance\")\n",
    "ax[2].imshow(steps_lbt_energies)\n",
    "ax[2].set_title(\"Inverse square root energy\")\n",
    "\n",
    "fig.savefig(\"img/final/quant-lbt.pdf\")"
   ]
  },
  {
   "cell_type": "markdown",
   "metadata": {},
   "source": [
    "## DWT Quantisation Schemes"
   ]
  },
  {
   "cell_type": "code",
   "execution_count": 50,
   "metadata": {},
   "outputs": [],
   "source": [
    "steps_dwt = np.zeros((256, 256))\n",
    "n = 4\n",
    "r = 2\n",
    "const_ratio = np.logspace(start=n, stop=0, num=n, base=r)\n",
    "dwtstep = np.stack((const_ratio, const_ratio, const_ratio))\n",
    "# append ones for DC components\n",
    "dwtstep = np.concatenate((dwtstep, np.ones((3, 1))), axis=1)\n",
    "\n",
    "for i in range(n):\n",
    "\n",
    "    m = 256//(2**i) # 256, 128, 64 ... \n",
    "    h = m//2 # Midpoint: 128, 64, 32 ...\n",
    "    steps_dwt[:h, h:m] = dwtstep[0, i] # tr\n",
    "    steps_dwt[h:m, :h] = dwtstep[1, i] # bl\n",
    "    steps_dwt[h:m, h:m] = dwtstep[2, i] # br\n"
   ]
  },
  {
   "cell_type": "code",
   "execution_count": 51,
   "metadata": {},
   "outputs": [],
   "source": [
    "steps_dwt_root2 = np.zeros((256, 256))\n",
    "n = 4\n",
    "r = 2\n",
    "const_ratio = np.logspace(start=n, stop=0, num=n, base=r)\n",
    "dwtstep = np.stack((const_ratio, const_ratio, const_ratio * np.sqrt(2)))\n",
    "# append ones for DC components\n",
    "dwtstep = np.concatenate((dwtstep, np.ones((3, 1))), axis=1)\n",
    "\n",
    "for i in range(n):\n",
    "\n",
    "    m = 256//(2**i) # 256, 128, 64 ... \n",
    "    h = m//2 # Midpoint: 128, 64, 32 ...\n",
    "    steps_dwt_root2[:h, h:m] = dwtstep[0, i] # tr\n",
    "    steps_dwt_root2[h:m, :h] = dwtstep[1, i] # bl\n",
    "    steps_dwt_root2[h:m, h:m] = dwtstep[2, i] # br\n"
   ]
  },
  {
   "cell_type": "code",
   "execution_count": 59,
   "metadata": {},
   "outputs": [
    {
     "data": {
      "image/png": "[encoded data removed]",
      "text/plain": [
       "<Figure size 936x360 with 3 Axes>"
      ]
     },
     "metadata": {
      "needs_background": "light"
     },
     "output_type": "display_data"
    }
   ],
   "source": [
    "fig, axs = plt.subplots(nrows=1, ncols=2, figsize=(13, 5))\n",
    "im = axs[0].imshow(steps_dwt)\n",
    "axs[1].imshow(steps_dwt_root2)\n",
    "fig.colorbar(im, ax=axs.ravel().tolist())\n",
    "\n",
    "fig.savefig(\"img/final/quant-dwt.pdf\")\n"
   ]
  },
  {
   "cell_type": "code",
   "execution_count": null,
   "metadata": {},
   "outputs": [],
   "source": []
  }
 ],
 "metadata": {
  "interpreter": {
   "hash": "8118fdaf61d044f3184783ed75d5b537f4e58ee9090554a668d17829c9ba2150"
  },
  "kernelspec": {
   "display_name": "Python 3.8.10 ('venv': venv)",
   "language": "python",
   "name": "python3"
  },
  "language_info": {
   "codemirror_mode": {
    "name": "ipython",
    "version": 3
   },
   "file_extension": ".py",
   "mimetype": "text/x-python",
   "name": "python",
   "nbconvert_exporter": "python",
   "pygments_lexer": "ipython3",
   "version": "3.8.10"
  },
  "orig_nbformat": 4
 },
 "nbformat": 4,
 "nbformat_minor": 2
}
