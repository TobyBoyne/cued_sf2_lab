{
 "cells": [
  {
   "cell_type": "markdown",
   "metadata": {},
   "source": [
    "<h1># Open again in assistant editor to compare</h1>"
   ]
  },
  {
   "cell_type": "code",
   "execution_count": null,
   "metadata": {},
   "outputs": [],
   "source": [
    "%matplotlib inline\n",
    "%load_ext autoreload\n",
    "%autoreload 2\n",
    "import matplotlib.pyplot as plt\n",
    "import IPython.display\n",
    "import numpy as np\n",
    "from cued_sf2_lab.familiarisation import load_mat_img, plot_image\n",
    "from cued_sf2_lab.jpeg import jpegdec, jpegenc\n",
    "from scipy import optimize"
   ]
  },
  {
   "cell_type": "code",
   "execution_count": null,
   "metadata": {},
   "outputs": [],
   "source": [
    "lighthouse, _ = load_mat_img(img='lighthouse.mat', img_info='X')\n",
    "bridge, _ = load_mat_img(img='bridge.mat', img_info='X')\n",
    "flamingo, _ = load_mat_img(img='flamingo.mat', img_info='X')\n",
    "\n",
    "lighthouse = lighthouse - 128.0\n",
    "bridge = bridge - 128.0\n",
    "flamingo = flamingo - 128.0"
   ]
  },
  {
   "cell_type": "code",
   "execution_count": null,
   "metadata": {},
   "outputs": [],
   "source": [
    "image = lighthouse # flamingo breaks variation of LBT and DWT\n",
    "size_lim = 40906 - 1440 - 10"
   ]
  },
  {
   "cell_type": "markdown",
   "metadata": {},
   "source": [
    "<h1>Raw</h1>"
   ]
  },
  {
   "cell_type": "code",
   "execution_count": null,
   "metadata": {},
   "outputs": [],
   "source": [
    "fig, ax = plt.subplots(figsize=(20, 20))\n",
    "\n",
    "plot_image(image, ax=ax)\n",
    "ax.set(yticks=[], xticks=[])\n",
    "\n",
    "# fig.savefig(\"figs/l_raw.pdf\")\n",
    "\n",
    "print(f'Size = {256*256*8}, Err = {np.std(0):.4}')"
   ]
  },
  {
   "cell_type": "markdown",
   "metadata": {},
   "source": [
    "<h1>JPEG (slow)</h1>"
   ]
  },
  {
   "cell_type": "code",
   "execution_count": null,
   "metadata": {},
   "outputs": [],
   "source": [
    "%%script echo skipping\n",
    "\n",
    "def error(qstep: int) -> int:\n",
    "\n",
    "    Z, h = jpegenc(image, qstep, opthuff=True, dcbits=16, log=False)\n",
    "    size = Z[:, 1].sum()\n",
    "    return np.sum((size - size_lim)**2)\n",
    "\n",
    "opt_step = optimize.minimize_scalar(error, method=\"bounded\", bounds=(4, 128)).x\n",
    "vlc, hufftab = jpegenc(image, opt_step, opthuff=True, dcbits=10, log=False)\n",
    "\n",
    "Z = jpegdec(vlc, opt_step, hufftab=hufftab, dcbits=10, log=False)\n",
    "\n",
    "fig, ax = plt.subplots(figsize=(20, 20))\n",
    "plot_image(Z, ax=ax)\n",
    "ax.set(yticks=[], xticks=[])\n",
    "\n",
    "# fig.savefig(\"figs/l_jpeg_opthuff_dc16bits.pdf\")\n",
    "\n",
    "\n",
    "print(f'Size = {vlc[:, 1].sum()}, Step = {opt_step:.4} (check bounds), Err = {np.std(Z - image):.4}')"
   ]
  },
  {
   "cell_type": "markdown",
   "metadata": {},
   "source": [
    "<h1>DWT</h1>"
   ]
  },
  {
   "cell_type": "code",
   "execution_count": null,
   "metadata": {},
   "outputs": [],
   "source": [
    "\n",
    "from compression import DWTCompression, LBTCompression"
   ]
  },
  {
   "cell_type": "code",
   "execution_count": null,
   "metadata": {},
   "outputs": [],
   "source": [
    "fig, ax = plt.subplots(figsize=(20, 20))\n",
    "DWT = DWTCompression(5)\n",
    "M = 16\n",
    "Y1 = DWT.compress(image)\n",
    "\n",
    "(vlc, hufftab), qs = DWT.opt_encode(Y1, size_lim=size_lim, M=M, root2=False)\n",
    "\n",
    "Y = DWT.decode(vlc, qstep=qs, hufftab=hufftab, M=M, root2=False)\n",
    "\n",
    "Z = DWT.decompress(Y)\n",
    "\n",
    "plot_image(Z, ax=ax)\n",
    "print(f'Size = {vlc[:, 1].sum()}, Step = {qs:.4} (check bounds), Err = {np.std(Z - image):.4}')\n",
    "\n",
    "ax.set(yticks=[], xticks=[])\n",
    "\n",
    "# fig.savefig(\"figs/l_dwt_opthuff.pdf\")"
   ]
  },
  {
   "cell_type": "markdown",
   "metadata": {},
   "source": [
    "<h1>DWT | Root 2</h1>"
   ]
  },
  {
   "cell_type": "code",
   "execution_count": null,
   "metadata": {},
   "outputs": [],
   "source": [
    "fig, ax = plt.subplots(figsize=(20, 20))\n",
    "image = lighthouse\n",
    "DWT = DWTCompression(4) # 5 layers breaks saying code size is too big\n",
    "\n",
    "Y = DWT.compress(image)\n",
    "\n",
    "(vlc, hufftab), qs = DWT.opt_encode(Y, size_lim=size_lim, M=16, rise_ratio=0.5)\n",
    "\n",
    "Y = DWT.decode(vlc, qstep=qs, hufftab=hufftab, M=16, rise_ratio=0.5)\n",
    "\n",
    "Z = DWT.decompress(Y)\n",
    "\n",
    "plot_image(Z, ax=ax)\n",
    "print(f'Size = {vlc[:, 1].sum()}, Step = {qs:.4} (check bounds), Err = {np.std(Z - image):.4}')\n",
    "\n",
    "ax.set(yticks=[], xticks=[])\n",
    "\n",
    "# fig.savefig(\"figs/l_dwt_opthuff_root2.pdf\")\n"
   ]
  },
  {
   "cell_type": "markdown",
   "metadata": {},
   "source": [
    "<h1> DWT | Root 2 | Rise Ratio </h1>"
   ]
  },
  {
   "cell_type": "code",
   "execution_count": null,
   "metadata": {},
   "outputs": [],
   "source": [
    "fig, ax = plt.subplots(figsize=(20, 20))\n",
    "image = lighthouse\n",
    "DWT = DWTCompression(4)\n",
    "RR = 0.68\n",
    "M = 16\n",
    "\n",
    "Y = DWT.compress(image)\n",
    "\n",
    "(vlc, hufftab), qs = DWT.opt_encode(Y, size_lim=size_lim, M=M, rise_ratio=RR)\n",
    "\n",
    "Y = DWT.decode(vlc, qstep=qs, hufftab=hufftab, M=M, rise_ratio=RR)\n",
    "\n",
    "Z = DWT.decompress(Y)\n",
    "\n",
    "plot_image(Z, ax=ax)\n",
    "print(f'Size = {vlc[:, 1].sum()}, Step = {qs:.4} (check bounds), Err = {np.std(Z - image):.4}')\n",
    "\n",
    "ax.set(yticks=[], xticks=[])\n",
    "\n",
    "# fig.savefig(\"figs/l_dwt_opthuff_root2.pdf\")"
   ]
  },
  {
   "cell_type": "markdown",
   "metadata": {},
   "source": [
    "<h1>LBT</h1>"
   ]
  },
  {
   "cell_type": "code",
   "execution_count": null,
   "metadata": {},
   "outputs": [],
   "source": [
    "M = 16\n",
    "\n",
    "scheme = LBTCompression(s=1.3, N=16)\n",
    "\n",
    "fig, ax = plt.subplots(figsize=(20, 20))\n",
    "\n",
    "Y = scheme.compress(image)\n",
    "(vlc, hufftab), qs = scheme.opt_encode(Y, size_lim=size_lim, M=M)\n",
    "header = (hufftab, qs)\n",
    "\n",
    "Y = scheme.decode(vlc, qstep=header[1], M=M, hufftab=header[0])\n",
    "Z = scheme.decompress(Y)\n",
    "\n",
    "plot_image(Z, ax=ax)\n",
    "print(f'Size = {vlc[:, 1].sum()}, Step = {qs:.4} (check bounds), Err = {np.std(Z - image):.4}')\n",
    "\n",
    "ax.set(yticks=[], xticks=[])\n",
    "\n",
    "# fig.savefig(\"figs/l_lbt_opthuff.pdf\")"
   ]
  },
  {
   "cell_type": "markdown",
   "metadata": {},
   "source": [
    "<h1>LBT with Quantisation Gradient</h1>"
   ]
  },
  {
   "cell_type": "code",
   "execution_count": null,
   "metadata": {},
   "outputs": [],
   "source": [
    "# Quantisation gradient top left to bottom right, apparently just lightly high passes but introduces massive RMS error\n",
    "# unreliable. M = 8 for flamingo, = 16 for lighthouse\n",
    "\n",
    "M = 16\n",
    "\n",
    "image = lighthouse\n",
    "\n",
    "scheme = LBTCompression(s=1.3, N=M)\n",
    "\n",
    "fig, ax = plt.subplots(figsize=(20, 20))\n",
    "\n",
    "Y = scheme.compress(image)\n",
    "(vlc, hufftab), qs = scheme.opt_encode(Y, size_lim=size_lim, M=M, quant_grad=True)\n",
    "header = (hufftab, qs)\n",
    "\n",
    "Y = scheme.decode(vlc, qstep=header[1], M=M, hufftab=header[0], quant_grad=True)\n",
    "Z = scheme.decompress(Y)\n",
    "plot_image(Z, ax=ax)\n",
    "print(f'Size = {vlc[:, 1].sum()}, Step = {qs:.4} (check bounds), Err = {np.std(Z - image):.4}')\n",
    "\n",
    "ax.set(yticks=[], xticks=[])\n",
    "\n",
    "# fig.savefig(\"figs/l_lbt_opthuff_qgrad.pdf\")"
   ]
  }
 ],
 "metadata": {
  "kernelspec": {
   "display_name": "sf2",
   "language": "python",
   "name": "sf2"
  },
  "language_info": {
   "codemirror_mode": {
    "name": "ipython",
    "version": 3
   },
   "file_extension": ".py",
   "mimetype": "text/x-python",
   "name": "python",
   "nbconvert_exporter": "python",
   "pygments_lexer": "ipython3",
   "version": "3.9.10"
  },
  "orig_nbformat": 4
 },
 "nbformat": 4,
 "nbformat_minor": 2
}
