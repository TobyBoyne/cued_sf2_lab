{
 "cells": [
  {
   "cell_type": "markdown",
   "metadata": {},
   "source": [
    "<h1># Open again in assistant editor to compare</h1>"
   ]
  },
  {
   "cell_type": "code",
   "execution_count": null,
   "metadata": {},
   "outputs": [],
   "source": [
    "%matplotlib inline\n",
    "%load_ext autoreload\n",
    "%autoreload 2\n",
    "import matplotlib.pyplot as plt\n",
    "import IPython.display\n",
    "import numpy as np\n",
    "from cued_sf2_lab.familiarisation import load_mat_img, plot_image\n",
    "from cued_sf2_lab.jpeg import jpegdec, jpegenc\n",
    "from scipy import optimize"
   ]
  },
  {
   "cell_type": "code",
   "execution_count": null,
   "metadata": {},
   "outputs": [],
   "source": [
    "lighthouse, _ = load_mat_img(img='lighthouse.mat', img_info='X')\n",
    "bridge, _ = load_mat_img(img='bridge.mat', img_info='X')\n",
    "flamingo, _ = load_mat_img(img='flamingo.mat', img_info='X')\n",
    "\n",
    "lighthouse = lighthouse - 128.0\n",
    "bridge = bridge - 128.0\n",
    "flamingo = flamingo - 128.0"
   ]
  },
  {
   "cell_type": "markdown",
   "metadata": {},
   "source": [
    "<h1>Raw</h1>"
   ]
  },
  {
   "cell_type": "code",
   "execution_count": null,
   "metadata": {},
   "outputs": [],
   "source": [
    "fig, ax = plt.subplots(figsize=(20, 20))\n",
    "\n",
    "plot_image(lighthouse, ax=ax)\n",
    "ax.set(yticks=[], xticks=[])\n",
    "\n",
    "fig.savefig(\"figs/l_raw.pdf\")\n",
    "\n",
    "print(f'Size = {256*256*8}, Err = {np.std(0):.4}')"
   ]
  },
  {
   "cell_type": "code",
   "execution_count": null,
   "metadata": {},
   "outputs": [],
   "source": [
    "print(np.max(lighthouse), np.min(lighthouse))"
   ]
  },
  {
   "cell_type": "markdown",
   "metadata": {},
   "source": [
    "<h1>JPEG (slow)</h1>"
   ]
  },
  {
   "cell_type": "code",
   "execution_count": null,
   "metadata": {},
   "outputs": [],
   "source": [
    "size_lim = 40950\n",
    "\n",
    "def error(qstep: int) -> int:\n",
    "\n",
    "    Z, h = jpegenc(lighthouse, qstep, opthuff=True, dcbits=16, log=False)\n",
    "    size = Z[:, 1].sum()\n",
    "    return np.sum((size - size_lim)**2)\n",
    "\n",
    "opt_step = optimize.minimize_scalar(error, method=\"bounded\", bounds=(16, 128)).x\n",
    "vlc, hufftab = jpegenc(lighthouse, opt_step, opthuff=True, dcbits=10, log=False)\n",
    "\n",
    "Z = jpegdec(vlc, opt_step, hufftab=hufftab, dcbits=10, log=False)\n",
    "\n",
    "fig, ax = plt.subplots(figsize=(20, 20))\n",
    "plot_image(Z, ax=ax)\n",
    "ax.set(yticks=[], xticks=[])\n",
    "\n",
    "fig.savefig(\"figs/l_jpeg_opthuff_dc16bits.pdf\")\n",
    "\n",
    "\n",
    "print(f'Size = {vlc[:, 1].sum()}, Err = {np.std(Z - lighthouse):.4}')"
   ]
  },
  {
   "cell_type": "markdown",
   "metadata": {},
   "source": [
    "<h1>DWT</h1>"
   ]
  },
  {
   "cell_type": "code",
   "execution_count": null,
   "metadata": {},
   "outputs": [],
   "source": [
    "\n",
    "from compression import DWTCompression, LBTCompression"
   ]
  },
  {
   "cell_type": "code",
   "execution_count": null,
   "metadata": {},
   "outputs": [],
   "source": [
    "fig, ax = plt.subplots(figsize=(20, 20))\n",
    "\n",
    "DWT = DWTCompression(5)\n",
    "\n",
    "Y1 = DWT.compress(lighthouse)\n",
    "\n",
    "(vlc, hufftab), qs = DWT.opt_encode(Y1, size_lim=40950, root2=False)\n",
    "\n",
    "Y = DWT.decode(vlc, qstep=qs, hufftab=hufftab, root2=False)\n",
    "\n",
    "Z = DWT.decompress(Y)\n",
    "\n",
    "plot_image(Z, ax=ax)\n",
    "print(f'Size = {vlc[:, 1].sum()}, Err = {np.std(Z - lighthouse):.4}')\n",
    "\n",
    "ax.set(yticks=[], xticks=[])\n",
    "\n",
    "fig.savefig(\"figs/l_dwt_opthuff.pdf\")"
   ]
  },
  {
   "cell_type": "markdown",
   "metadata": {},
   "source": [
    "<h1>DWT with Intermediary sqrt(2) Q Steps</h1>"
   ]
  },
  {
   "cell_type": "code",
   "execution_count": null,
   "metadata": {},
   "outputs": [],
   "source": [
    "fig, ax = plt.subplots(figsize=(20, 20))\n",
    "\n",
    "DWT = DWTCompression(5)\n",
    "\n",
    "Y1 = DWT.compress(lighthouse)\n",
    "\n",
    "(vlc, hufftab), qs = DWT.opt_encode(Y1, size_lim=40950)\n",
    "\n",
    "Y = DWT.decode(vlc, qstep=qs, hufftab=hufftab)\n",
    "\n",
    "Z = DWT.decompress(Y)\n",
    "\n",
    "plot_image(Z, ax=ax)\n",
    "print(f'Err {np.std(Z - lighthouse):.4}')\n",
    "\n",
    "ax.set(yticks=[], xticks=[])\n",
    "\n",
    "fig.savefig(\"figs/l_dwt_opthuff_root2.pdf\")\n"
   ]
  },
  {
   "cell_type": "markdown",
   "metadata": {},
   "source": [
    "<h1>LBT</h1>"
   ]
  },
  {
   "cell_type": "code",
   "execution_count": null,
   "metadata": {},
   "outputs": [],
   "source": [
    "M = 16\n",
    "\n",
    "scheme = LBTCompression(s=1.3, N=M)\n",
    "image = lighthouse\n",
    "\n",
    "fig, ax = plt.subplots(figsize=(20, 20))\n",
    "\n",
    "Y = scheme.compress(image)\n",
    "(vlc, hufftab), qs = scheme.opt_encode(Y, size_lim=40950, M=M)\n",
    "header = (hufftab, qs)\n",
    "\n",
    "Y = scheme.decode(vlc, qstep=header[1], M=M, hufftab=header[0])\n",
    "Z1 = scheme.decompress(Y)\n",
    "\n",
    "plot_image(Z1, ax=ax)\n",
    "print(f'Size = {vlc[:, 1].sum()}, Err = {np.std(Z1 - image):.4}')\n",
    "\n",
    "ax.set(yticks=[], xticks=[])\n",
    "\n",
    "fig.savefig(\"figs/l_lbt_opthuff.pdf\")"
   ]
  },
  {
   "cell_type": "markdown",
   "metadata": {},
   "source": [
    "<h1>LBT with Quantisation Gradient</h1>"
   ]
  },
  {
   "cell_type": "code",
   "execution_count": null,
   "metadata": {},
   "outputs": [],
   "source": [
    "# Quantisation gradient top left to bottom right, apparently just lightly high passes but introduces massive RMS error\n",
    "\n",
    "M = 16\n",
    "\n",
    "scheme = LBTCompression(s=1.3, N=M)\n",
    "image = lighthouse\n",
    "\n",
    "fig, ax = plt.subplots(figsize=(20, 20))\n",
    "\n",
    "Y = scheme.compress(image)\n",
    "(vlc, hufftab), qs = scheme.opt_encode(Y, size_lim=40950, M=M, quant_grad=True)\n",
    "header = (hufftab, qs)\n",
    "\n",
    "Y = scheme.decode(vlc, qstep=header[1], M=M, hufftab=header[0], quant_grad=True)\n",
    "Z1 = scheme.decompress(Y)\n",
    "plot_image(Z1, ax=ax)\n",
    "print(f'Size = {vlc[:, 1].sum()}, Err = {np.std(Z1 - image):.4}')\n",
    "\n",
    "ax.set(yticks=[], xticks=[])\n",
    "\n",
    "fig.savefig(\"figs/l_lbt_opthuff_qgrad.pdf\")"
   ]
  }
 ],
 "metadata": {
  "kernelspec": {
   "display_name": "sf2",
   "language": "python",
   "name": "sf2"
  },
  "language_info": {
   "codemirror_mode": {
    "name": "ipython",
    "version": 3
   },
   "file_extension": ".py",
   "mimetype": "text/x-python",
   "name": "python",
   "nbconvert_exporter": "python",
   "pygments_lexer": "ipython3",
   "version": "3.9.10"
  },
  "orig_nbformat": 4
 },
 "nbformat": 4,
 "nbformat_minor": 2
}
